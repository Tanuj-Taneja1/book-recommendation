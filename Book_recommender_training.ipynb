{
 "cells": [
  {
   "cell_type": "markdown",
   "id": "cbaf2f2a",
   "metadata": {
    "_cell_guid": "b1076dfc-b9ad-4769-8c92-a6c4dae69d19",
    "_uuid": "8f2839f25d086af736a60e9eeb907d3b93b6e0e5",
    "execution": {
     "iopub.execute_input": "2024-07-05T13:10:55.950139Z",
     "iopub.status.busy": "2024-07-05T13:10:55.949760Z",
     "iopub.status.idle": "2024-07-05T13:10:57.091879Z",
     "shell.execute_reply": "2024-07-05T13:10:57.090543Z",
     "shell.execute_reply.started": "2024-07-05T13:10:55.950109Z"
    },
    "papermill": {
     "duration": 0.007675,
     "end_time": "2024-07-19T19:18:28.036570",
     "exception": false,
     "start_time": "2024-07-19T19:18:28.028895",
     "status": "completed"
    },
    "tags": []
   },
   "source": [
    "# Libraries "
   ]
  },
  {
   "cell_type": "code",
   "execution_count": 1,
   "id": "17e25e6a",
   "metadata": {
    "execution": {
     "iopub.execute_input": "2024-07-19T19:18:28.054089Z",
     "iopub.status.busy": "2024-07-19T19:18:28.053665Z",
     "iopub.status.idle": "2024-07-19T19:18:31.796992Z",
     "shell.execute_reply": "2024-07-19T19:18:31.795704Z"
    },
    "papermill": {
     "duration": 3.755077,
     "end_time": "2024-07-19T19:18:31.800108",
     "exception": false,
     "start_time": "2024-07-19T19:18:28.045031",
     "status": "completed"
    },
    "tags": []
   },
   "outputs": [
    {
     "name": "stdout",
     "output_type": "stream",
     "text": [
      "[nltk_data] Downloading package stopwords to /usr/share/nltk_data...\n",
      "[nltk_data]   Package stopwords is already up-to-date!\n"
     ]
    }
   ],
   "source": [
    "import pandas as pd\n",
    "import numpy as np\n",
    "import matplotlib.pyplot as plt\n",
    "import seaborn as sns\n",
    "from sklearn.feature_extraction.text import TfidfVectorizer\n",
    "from sklearn.metrics.pairwise import cosine_similarity\n",
    "import nltk\n",
    "from nltk.corpus import stopwords\n",
    "nltk.download('stopwords')\n",
    "import joblib\n",
    "from joblib import dump, load\n",
    "from scipy import sparse"
   ]
  },
  {
   "cell_type": "markdown",
   "id": "c408c57b",
   "metadata": {
    "papermill": {
     "duration": 0.007537,
     "end_time": "2024-07-19T19:18:31.815032",
     "exception": false,
     "start_time": "2024-07-19T19:18:31.807495",
     "status": "completed"
    },
    "tags": []
   },
   "source": [
    "# File Imports"
   ]
  },
  {
   "cell_type": "code",
   "execution_count": 2,
   "id": "9bb14d6d",
   "metadata": {
    "execution": {
     "iopub.execute_input": "2024-07-19T19:18:31.831725Z",
     "iopub.status.busy": "2024-07-19T19:18:31.831110Z",
     "iopub.status.idle": "2024-07-19T19:18:35.864096Z",
     "shell.execute_reply": "2024-07-19T19:18:35.862833Z"
    },
    "papermill": {
     "duration": 4.044439,
     "end_time": "2024-07-19T19:18:35.866833",
     "exception": false,
     "start_time": "2024-07-19T19:18:31.822394",
     "status": "completed"
    },
    "tags": []
   },
   "outputs": [],
   "source": [
    "books=pd.read_csv(\"/kaggle/input/book-recommendation-dataset/Books.csv\",low_memory=False,index_col=\"ISBN\")\n",
    "ratings=pd.read_csv(\"/kaggle/input/book-recommendation-dataset/Ratings.csv\")"
   ]
  },
  {
   "cell_type": "code",
   "execution_count": 3,
   "id": "d5366cee",
   "metadata": {
    "execution": {
     "iopub.execute_input": "2024-07-19T19:18:35.882970Z",
     "iopub.status.busy": "2024-07-19T19:18:35.882293Z",
     "iopub.status.idle": "2024-07-19T19:18:35.900725Z",
     "shell.execute_reply": "2024-07-19T19:18:35.899462Z"
    },
    "papermill": {
     "duration": 0.029057,
     "end_time": "2024-07-19T19:18:35.903047",
     "exception": false,
     "start_time": "2024-07-19T19:18:35.873990",
     "status": "completed"
    },
    "tags": []
   },
   "outputs": [
    {
     "data": {
      "text/html": [
       "<div>\n",
       "<style scoped>\n",
       "    .dataframe tbody tr th:only-of-type {\n",
       "        vertical-align: middle;\n",
       "    }\n",
       "\n",
       "    .dataframe tbody tr th {\n",
       "        vertical-align: top;\n",
       "    }\n",
       "\n",
       "    .dataframe thead th {\n",
       "        text-align: right;\n",
       "    }\n",
       "</style>\n",
       "<table border=\"1\" class=\"dataframe\">\n",
       "  <thead>\n",
       "    <tr style=\"text-align: right;\">\n",
       "      <th></th>\n",
       "      <th>Book-Title</th>\n",
       "      <th>Book-Author</th>\n",
       "      <th>Year-Of-Publication</th>\n",
       "      <th>Publisher</th>\n",
       "      <th>Image-URL-S</th>\n",
       "      <th>Image-URL-M</th>\n",
       "      <th>Image-URL-L</th>\n",
       "    </tr>\n",
       "    <tr>\n",
       "      <th>ISBN</th>\n",
       "      <th></th>\n",
       "      <th></th>\n",
       "      <th></th>\n",
       "      <th></th>\n",
       "      <th></th>\n",
       "      <th></th>\n",
       "      <th></th>\n",
       "    </tr>\n",
       "  </thead>\n",
       "  <tbody>\n",
       "    <tr>\n",
       "      <th>0195153448</th>\n",
       "      <td>Classical Mythology</td>\n",
       "      <td>Mark P. O. Morford</td>\n",
       "      <td>2002</td>\n",
       "      <td>Oxford University Press</td>\n",
       "      <td>http://images.amazon.com/images/P/0195153448.0...</td>\n",
       "      <td>http://images.amazon.com/images/P/0195153448.0...</td>\n",
       "      <td>http://images.amazon.com/images/P/0195153448.0...</td>\n",
       "    </tr>\n",
       "    <tr>\n",
       "      <th>0002005018</th>\n",
       "      <td>Clara Callan</td>\n",
       "      <td>Richard Bruce Wright</td>\n",
       "      <td>2001</td>\n",
       "      <td>HarperFlamingo Canada</td>\n",
       "      <td>http://images.amazon.com/images/P/0002005018.0...</td>\n",
       "      <td>http://images.amazon.com/images/P/0002005018.0...</td>\n",
       "      <td>http://images.amazon.com/images/P/0002005018.0...</td>\n",
       "    </tr>\n",
       "    <tr>\n",
       "      <th>0060973129</th>\n",
       "      <td>Decision in Normandy</td>\n",
       "      <td>Carlo D'Este</td>\n",
       "      <td>1991</td>\n",
       "      <td>HarperPerennial</td>\n",
       "      <td>http://images.amazon.com/images/P/0060973129.0...</td>\n",
       "      <td>http://images.amazon.com/images/P/0060973129.0...</td>\n",
       "      <td>http://images.amazon.com/images/P/0060973129.0...</td>\n",
       "    </tr>\n",
       "    <tr>\n",
       "      <th>0374157065</th>\n",
       "      <td>Flu: The Story of the Great Influenza Pandemic...</td>\n",
       "      <td>Gina Bari Kolata</td>\n",
       "      <td>1999</td>\n",
       "      <td>Farrar Straus Giroux</td>\n",
       "      <td>http://images.amazon.com/images/P/0374157065.0...</td>\n",
       "      <td>http://images.amazon.com/images/P/0374157065.0...</td>\n",
       "      <td>http://images.amazon.com/images/P/0374157065.0...</td>\n",
       "    </tr>\n",
       "    <tr>\n",
       "      <th>0393045218</th>\n",
       "      <td>The Mummies of Urumchi</td>\n",
       "      <td>E. J. W. Barber</td>\n",
       "      <td>1999</td>\n",
       "      <td>W. W. Norton &amp;amp; Company</td>\n",
       "      <td>http://images.amazon.com/images/P/0393045218.0...</td>\n",
       "      <td>http://images.amazon.com/images/P/0393045218.0...</td>\n",
       "      <td>http://images.amazon.com/images/P/0393045218.0...</td>\n",
       "    </tr>\n",
       "  </tbody>\n",
       "</table>\n",
       "</div>"
      ],
      "text/plain": [
       "                                                   Book-Title  \\\n",
       "ISBN                                                            \n",
       "0195153448                                Classical Mythology   \n",
       "0002005018                                       Clara Callan   \n",
       "0060973129                               Decision in Normandy   \n",
       "0374157065  Flu: The Story of the Great Influenza Pandemic...   \n",
       "0393045218                             The Mummies of Urumchi   \n",
       "\n",
       "                     Book-Author Year-Of-Publication  \\\n",
       "ISBN                                                   \n",
       "0195153448    Mark P. O. Morford                2002   \n",
       "0002005018  Richard Bruce Wright                2001   \n",
       "0060973129          Carlo D'Este                1991   \n",
       "0374157065      Gina Bari Kolata                1999   \n",
       "0393045218       E. J. W. Barber                1999   \n",
       "\n",
       "                             Publisher  \\\n",
       "ISBN                                     \n",
       "0195153448     Oxford University Press   \n",
       "0002005018       HarperFlamingo Canada   \n",
       "0060973129             HarperPerennial   \n",
       "0374157065        Farrar Straus Giroux   \n",
       "0393045218  W. W. Norton &amp; Company   \n",
       "\n",
       "                                                  Image-URL-S  \\\n",
       "ISBN                                                            \n",
       "0195153448  http://images.amazon.com/images/P/0195153448.0...   \n",
       "0002005018  http://images.amazon.com/images/P/0002005018.0...   \n",
       "0060973129  http://images.amazon.com/images/P/0060973129.0...   \n",
       "0374157065  http://images.amazon.com/images/P/0374157065.0...   \n",
       "0393045218  http://images.amazon.com/images/P/0393045218.0...   \n",
       "\n",
       "                                                  Image-URL-M  \\\n",
       "ISBN                                                            \n",
       "0195153448  http://images.amazon.com/images/P/0195153448.0...   \n",
       "0002005018  http://images.amazon.com/images/P/0002005018.0...   \n",
       "0060973129  http://images.amazon.com/images/P/0060973129.0...   \n",
       "0374157065  http://images.amazon.com/images/P/0374157065.0...   \n",
       "0393045218  http://images.amazon.com/images/P/0393045218.0...   \n",
       "\n",
       "                                                  Image-URL-L  \n",
       "ISBN                                                           \n",
       "0195153448  http://images.amazon.com/images/P/0195153448.0...  \n",
       "0002005018  http://images.amazon.com/images/P/0002005018.0...  \n",
       "0060973129  http://images.amazon.com/images/P/0060973129.0...  \n",
       "0374157065  http://images.amazon.com/images/P/0374157065.0...  \n",
       "0393045218  http://images.amazon.com/images/P/0393045218.0...  "
      ]
     },
     "execution_count": 3,
     "metadata": {},
     "output_type": "execute_result"
    }
   ],
   "source": [
    "books.head()"
   ]
  },
  {
   "cell_type": "code",
   "execution_count": 4,
   "id": "61080b4d",
   "metadata": {
    "execution": {
     "iopub.execute_input": "2024-07-19T19:18:35.920063Z",
     "iopub.status.busy": "2024-07-19T19:18:35.919678Z",
     "iopub.status.idle": "2024-07-19T19:18:35.931357Z",
     "shell.execute_reply": "2024-07-19T19:18:35.929690Z"
    },
    "papermill": {
     "duration": 0.023114,
     "end_time": "2024-07-19T19:18:35.933948",
     "exception": false,
     "start_time": "2024-07-19T19:18:35.910834",
     "status": "completed"
    },
    "tags": []
   },
   "outputs": [
    {
     "data": {
      "text/html": [
       "<div>\n",
       "<style scoped>\n",
       "    .dataframe tbody tr th:only-of-type {\n",
       "        vertical-align: middle;\n",
       "    }\n",
       "\n",
       "    .dataframe tbody tr th {\n",
       "        vertical-align: top;\n",
       "    }\n",
       "\n",
       "    .dataframe thead th {\n",
       "        text-align: right;\n",
       "    }\n",
       "</style>\n",
       "<table border=\"1\" class=\"dataframe\">\n",
       "  <thead>\n",
       "    <tr style=\"text-align: right;\">\n",
       "      <th></th>\n",
       "      <th>User-ID</th>\n",
       "      <th>ISBN</th>\n",
       "      <th>Book-Rating</th>\n",
       "    </tr>\n",
       "  </thead>\n",
       "  <tbody>\n",
       "    <tr>\n",
       "      <th>0</th>\n",
       "      <td>276725</td>\n",
       "      <td>034545104X</td>\n",
       "      <td>0</td>\n",
       "    </tr>\n",
       "    <tr>\n",
       "      <th>1</th>\n",
       "      <td>276726</td>\n",
       "      <td>0155061224</td>\n",
       "      <td>5</td>\n",
       "    </tr>\n",
       "    <tr>\n",
       "      <th>2</th>\n",
       "      <td>276727</td>\n",
       "      <td>0446520802</td>\n",
       "      <td>0</td>\n",
       "    </tr>\n",
       "    <tr>\n",
       "      <th>3</th>\n",
       "      <td>276729</td>\n",
       "      <td>052165615X</td>\n",
       "      <td>3</td>\n",
       "    </tr>\n",
       "    <tr>\n",
       "      <th>4</th>\n",
       "      <td>276729</td>\n",
       "      <td>0521795028</td>\n",
       "      <td>6</td>\n",
       "    </tr>\n",
       "  </tbody>\n",
       "</table>\n",
       "</div>"
      ],
      "text/plain": [
       "   User-ID        ISBN  Book-Rating\n",
       "0   276725  034545104X            0\n",
       "1   276726  0155061224            5\n",
       "2   276727  0446520802            0\n",
       "3   276729  052165615X            3\n",
       "4   276729  0521795028            6"
      ]
     },
     "execution_count": 4,
     "metadata": {},
     "output_type": "execute_result"
    }
   ],
   "source": [
    "ratings.head()"
   ]
  },
  {
   "cell_type": "code",
   "execution_count": 5,
   "id": "c00fcece",
   "metadata": {
    "execution": {
     "iopub.execute_input": "2024-07-19T19:18:35.950705Z",
     "iopub.status.busy": "2024-07-19T19:18:35.950316Z",
     "iopub.status.idle": "2024-07-19T19:18:35.975569Z",
     "shell.execute_reply": "2024-07-19T19:18:35.974344Z"
    },
    "papermill": {
     "duration": 0.036593,
     "end_time": "2024-07-19T19:18:35.978222",
     "exception": false,
     "start_time": "2024-07-19T19:18:35.941629",
     "status": "completed"
    },
    "tags": []
   },
   "outputs": [],
   "source": [
    "books=books.drop([\"Image-URL-M\",\"Image-URL-S\"],axis=1)"
   ]
  },
  {
   "cell_type": "code",
   "execution_count": 6,
   "id": "a7a3667c",
   "metadata": {
    "execution": {
     "iopub.execute_input": "2024-07-19T19:18:35.995651Z",
     "iopub.status.busy": "2024-07-19T19:18:35.994881Z",
     "iopub.status.idle": "2024-07-19T19:18:36.863622Z",
     "shell.execute_reply": "2024-07-19T19:18:36.862408Z"
    },
    "papermill": {
     "duration": 0.880218,
     "end_time": "2024-07-19T19:18:36.866236",
     "exception": false,
     "start_time": "2024-07-19T19:18:35.986018",
     "status": "completed"
    },
    "tags": []
   },
   "outputs": [
    {
     "data": {
      "text/html": [
       "<div>\n",
       "<style scoped>\n",
       "    .dataframe tbody tr th:only-of-type {\n",
       "        vertical-align: middle;\n",
       "    }\n",
       "\n",
       "    .dataframe tbody tr th {\n",
       "        vertical-align: top;\n",
       "    }\n",
       "\n",
       "    .dataframe thead th {\n",
       "        text-align: right;\n",
       "    }\n",
       "</style>\n",
       "<table border=\"1\" class=\"dataframe\">\n",
       "  <thead>\n",
       "    <tr style=\"text-align: right;\">\n",
       "      <th></th>\n",
       "      <th>rating_count</th>\n",
       "      <th>avg_rating</th>\n",
       "    </tr>\n",
       "    <tr>\n",
       "      <th>ISBN</th>\n",
       "      <th></th>\n",
       "      <th></th>\n",
       "    </tr>\n",
       "  </thead>\n",
       "  <tbody>\n",
       "    <tr>\n",
       "      <th>0330299891</th>\n",
       "      <td>2</td>\n",
       "      <td>3.0</td>\n",
       "    </tr>\n",
       "    <tr>\n",
       "      <th>0375404120</th>\n",
       "      <td>2</td>\n",
       "      <td>1.5</td>\n",
       "    </tr>\n",
       "    <tr>\n",
       "      <th>0586045007</th>\n",
       "      <td>1</td>\n",
       "      <td>0.0</td>\n",
       "    </tr>\n",
       "    <tr>\n",
       "      <th>9022906116</th>\n",
       "      <td>2</td>\n",
       "      <td>3.5</td>\n",
       "    </tr>\n",
       "    <tr>\n",
       "      <th>9032803328</th>\n",
       "      <td>1</td>\n",
       "      <td>0.0</td>\n",
       "    </tr>\n",
       "  </tbody>\n",
       "</table>\n",
       "</div>"
      ],
      "text/plain": [
       "            rating_count  avg_rating\n",
       "ISBN                                \n",
       "0330299891             2         3.0\n",
       "0375404120             2         1.5\n",
       "0586045007             1         0.0\n",
       "9022906116             2         3.5\n",
       "9032803328             1         0.0"
      ]
     },
     "execution_count": 6,
     "metadata": {},
     "output_type": "execute_result"
    }
   ],
   "source": [
    "final_ratings = ratings.groupby('ISBN').agg({\n",
    "    'Book-Rating': ['count', 'mean']\n",
    "})\n",
    "final_ratings.columns = ['rating_count', 'avg_rating']\n",
    "final_ratings.head()"
   ]
  },
  {
   "cell_type": "markdown",
   "id": "b855db9e",
   "metadata": {
    "papermill": {
     "duration": 0.007478,
     "end_time": "2024-07-19T19:18:36.881719",
     "exception": false,
     "start_time": "2024-07-19T19:18:36.874241",
     "status": "completed"
    },
    "tags": []
   },
   "source": [
    "# EDA"
   ]
  },
  {
   "cell_type": "code",
   "execution_count": 7,
   "id": "215dde72",
   "metadata": {
    "execution": {
     "iopub.execute_input": "2024-07-19T19:18:36.899762Z",
     "iopub.status.busy": "2024-07-19T19:18:36.899374Z",
     "iopub.status.idle": "2024-07-19T19:18:36.907321Z",
     "shell.execute_reply": "2024-07-19T19:18:36.906166Z"
    },
    "papermill": {
     "duration": 0.019564,
     "end_time": "2024-07-19T19:18:36.909427",
     "exception": false,
     "start_time": "2024-07-19T19:18:36.889863",
     "status": "completed"
    },
    "tags": []
   },
   "outputs": [
    {
     "name": "stdout",
     "output_type": "stream",
     "text": [
      "Data Shape\n"
     ]
    },
    {
     "data": {
      "text/plain": [
       "((340556, 2), (271360, 5))"
      ]
     },
     "execution_count": 7,
     "metadata": {},
     "output_type": "execute_result"
    }
   ],
   "source": [
    "print(\"Data Shape\")\n",
    "final_ratings.shape,books.shape"
   ]
  },
  {
   "cell_type": "code",
   "execution_count": 8,
   "id": "85514c99",
   "metadata": {
    "execution": {
     "iopub.execute_input": "2024-07-19T19:18:36.927634Z",
     "iopub.status.busy": "2024-07-19T19:18:36.927244Z",
     "iopub.status.idle": "2024-07-19T19:18:36.948314Z",
     "shell.execute_reply": "2024-07-19T19:18:36.947208Z"
    },
    "papermill": {
     "duration": 0.03361,
     "end_time": "2024-07-19T19:18:36.951000",
     "exception": false,
     "start_time": "2024-07-19T19:18:36.917390",
     "status": "completed"
    },
    "tags": []
   },
   "outputs": [
    {
     "data": {
      "text/plain": [
       "avg_rating\n",
       "0.000000     154583\n",
       "8.000000      19105\n",
       "5.000000      18320\n",
       "10.000000     16762\n",
       "7.000000      15543\n",
       "              ...  \n",
       "2.517986          1\n",
       "2.228070          1\n",
       "1.743363          1\n",
       "0.877551          1\n",
       "5.687500          1\n",
       "Name: count, Length: 3806, dtype: int64"
      ]
     },
     "execution_count": 8,
     "metadata": {},
     "output_type": "execute_result"
    }
   ],
   "source": [
    "final_ratings.avg_rating.value_counts()"
   ]
  },
  {
   "cell_type": "code",
   "execution_count": 9,
   "id": "73f852f7",
   "metadata": {
    "execution": {
     "iopub.execute_input": "2024-07-19T19:18:36.969751Z",
     "iopub.status.busy": "2024-07-19T19:18:36.969009Z",
     "iopub.status.idle": "2024-07-19T19:18:37.083147Z",
     "shell.execute_reply": "2024-07-19T19:18:37.082176Z"
    },
    "papermill": {
     "duration": 0.125954,
     "end_time": "2024-07-19T19:18:37.085289",
     "exception": false,
     "start_time": "2024-07-19T19:18:36.959335",
     "status": "completed"
    },
    "tags": []
   },
   "outputs": [
    {
     "data": {
      "text/plain": [
       "avg_rating\n",
       "3.000000    263\n",
       "2.000000    241\n",
       "4.000000    135\n",
       "0.000000    124\n",
       "2.500000    104\n",
       "           ... \n",
       "2.517986      1\n",
       "2.228070      1\n",
       "1.743363      1\n",
       "0.877551      1\n",
       "5.687500      1\n",
       "Name: count, Length: 3722, dtype: int64"
      ]
     },
     "execution_count": 9,
     "metadata": {},
     "output_type": "execute_result"
    }
   ],
   "source": [
    "final_ratings[final_ratings.rating_count>10].avg_rating.value_counts()"
   ]
  },
  {
   "cell_type": "code",
   "execution_count": 10,
   "id": "6de7e58a",
   "metadata": {
    "execution": {
     "iopub.execute_input": "2024-07-19T19:18:37.104396Z",
     "iopub.status.busy": "2024-07-19T19:18:37.103997Z",
     "iopub.status.idle": "2024-07-19T19:18:37.114340Z",
     "shell.execute_reply": "2024-07-19T19:18:37.113247Z"
    },
    "papermill": {
     "duration": 0.022989,
     "end_time": "2024-07-19T19:18:37.117017",
     "exception": false,
     "start_time": "2024-07-19T19:18:37.094028",
     "status": "completed"
    },
    "tags": []
   },
   "outputs": [
    {
     "data": {
      "text/plain": [
       "(124, 2)"
      ]
     },
     "execution_count": 10,
     "metadata": {},
     "output_type": "execute_result"
    }
   ],
   "source": [
    "(final_ratings[(final_ratings.rating_count>10)&(final_ratings.avg_rating==0)]).shape"
   ]
  },
  {
   "cell_type": "code",
   "execution_count": 11,
   "id": "bebb15c2",
   "metadata": {
    "execution": {
     "iopub.execute_input": "2024-07-19T19:18:37.135797Z",
     "iopub.status.busy": "2024-07-19T19:18:37.134919Z",
     "iopub.status.idle": "2024-07-19T19:18:37.150816Z",
     "shell.execute_reply": "2024-07-19T19:18:37.149469Z"
    },
    "papermill": {
     "duration": 0.028277,
     "end_time": "2024-07-19T19:18:37.153581",
     "exception": false,
     "start_time": "2024-07-19T19:18:37.125304",
     "status": "completed"
    },
    "tags": []
   },
   "outputs": [
    {
     "data": {
      "text/plain": [
       "avg_rating\n",
       "0.0     155205\n",
       "4.0      26423\n",
       "2.0      24781\n",
       "5.0      23143\n",
       "8.0      21978\n",
       "3.0      20487\n",
       "10.0     17421\n",
       "7.0      16765\n",
       "6.0      13116\n",
       "9.0      12713\n",
       "1.0       8524\n",
       "Name: count, dtype: int64"
      ]
     },
     "execution_count": 11,
     "metadata": {},
     "output_type": "execute_result"
    }
   ],
   "source": [
    "final_ratings.avg_rating.round().value_counts()"
   ]
  },
  {
   "cell_type": "code",
   "execution_count": 12,
   "id": "28e3fe79",
   "metadata": {
    "execution": {
     "iopub.execute_input": "2024-07-19T19:18:37.172058Z",
     "iopub.status.busy": "2024-07-19T19:18:37.171638Z",
     "iopub.status.idle": "2024-07-19T19:18:37.179993Z",
     "shell.execute_reply": "2024-07-19T19:18:37.178609Z"
    },
    "papermill": {
     "duration": 0.020769,
     "end_time": "2024-07-19T19:18:37.182836",
     "exception": false,
     "start_time": "2024-07-19T19:18:37.162067",
     "status": "completed"
    },
    "tags": []
   },
   "outputs": [],
   "source": [
    "final_ratings[\"rounded_rating\"]=final_ratings.avg_rating.round()"
   ]
  },
  {
   "cell_type": "code",
   "execution_count": 13,
   "id": "e6ed9b65",
   "metadata": {
    "execution": {
     "iopub.execute_input": "2024-07-19T19:18:37.202484Z",
     "iopub.status.busy": "2024-07-19T19:18:37.202079Z",
     "iopub.status.idle": "2024-07-19T19:18:39.959904Z",
     "shell.execute_reply": "2024-07-19T19:18:39.958698Z"
    },
    "papermill": {
     "duration": 2.770293,
     "end_time": "2024-07-19T19:18:39.962275",
     "exception": false,
     "start_time": "2024-07-19T19:18:37.191982",
     "status": "completed"
    },
    "tags": []
   },
   "outputs": [
    {
     "name": "stderr",
     "output_type": "stream",
     "text": [
      "/opt/conda/lib/python3.10/site-packages/seaborn/_oldcore.py:1119: FutureWarning: use_inf_as_na option is deprecated and will be removed in a future version. Convert inf values to NaN before operating instead.\n",
      "  with pd.option_context('mode.use_inf_as_na', True):\n",
      "/opt/conda/lib/python3.10/site-packages/seaborn/_oldcore.py:1075: FutureWarning: When grouping with a length-1 list-like, you will need to pass a length-1 tuple to get_group in a future version of pandas. Pass `(name,)` instead of `name` to silence this warning.\n",
      "  data_subset = grouped_data.get_group(pd_key)\n"
     ]
    },
    {
     "data": {
      "image/png": "[encoded data removed]",
      "text/plain": [
       "<Figure size 640x480 with 1 Axes>"
      ]
     },
     "metadata": {},
     "output_type": "display_data"
    }
   ],
   "source": [
    "sns.kdeplot(data=final_ratings[final_ratings.rating_count<5],x=\"rating_count\",hue=\"rounded_rating\")\n",
    "plt.show()"
   ]
  },
  {
   "cell_type": "markdown",
   "id": "daa36b54",
   "metadata": {
    "papermill": {
     "duration": 0.008895,
     "end_time": "2024-07-19T19:18:39.980212",
     "exception": false,
     "start_time": "2024-07-19T19:18:39.971317",
     "status": "completed"
    },
    "tags": []
   },
   "source": [
    "# Feature Engineering"
   ]
  },
  {
   "cell_type": "code",
   "execution_count": 14,
   "id": "757316e4",
   "metadata": {
    "execution": {
     "iopub.execute_input": "2024-07-19T19:18:40.005404Z",
     "iopub.status.busy": "2024-07-19T19:18:40.004216Z",
     "iopub.status.idle": "2024-07-19T19:18:40.017837Z",
     "shell.execute_reply": "2024-07-19T19:18:40.015079Z"
    },
    "papermill": {
     "duration": 0.031244,
     "end_time": "2024-07-19T19:18:40.023601",
     "exception": false,
     "start_time": "2024-07-19T19:18:39.992357",
     "status": "completed"
    },
    "tags": []
   },
   "outputs": [],
   "source": [
    "final_ratings=final_ratings[(final_ratings.rating_count>5)]"
   ]
  },
  {
   "cell_type": "code",
   "execution_count": 15,
   "id": "521c4b6c",
   "metadata": {
    "execution": {
     "iopub.execute_input": "2024-07-19T19:18:40.046720Z",
     "iopub.status.busy": "2024-07-19T19:18:40.046316Z",
     "iopub.status.idle": "2024-07-19T19:18:40.053943Z",
     "shell.execute_reply": "2024-07-19T19:18:40.052605Z"
    },
    "papermill": {
     "duration": 0.021457,
     "end_time": "2024-07-19T19:18:40.056611",
     "exception": false,
     "start_time": "2024-07-19T19:18:40.035154",
     "status": "completed"
    },
    "tags": []
   },
   "outputs": [
    {
     "data": {
      "text/plain": [
       "(34757, 3)"
      ]
     },
     "execution_count": 15,
     "metadata": {},
     "output_type": "execute_result"
    }
   ],
   "source": [
    "final_ratings.shape"
   ]
  },
  {
   "cell_type": "code",
   "execution_count": 16,
   "id": "cedf28ef",
   "metadata": {
    "execution": {
     "iopub.execute_input": "2024-07-19T19:18:40.076861Z",
     "iopub.status.busy": "2024-07-19T19:18:40.076474Z",
     "iopub.status.idle": "2024-07-19T19:18:40.232558Z",
     "shell.execute_reply": "2024-07-19T19:18:40.231373Z"
    },
    "papermill": {
     "duration": 0.169581,
     "end_time": "2024-07-19T19:18:40.235519",
     "exception": false,
     "start_time": "2024-07-19T19:18:40.065938",
     "status": "completed"
    },
    "tags": []
   },
   "outputs": [
    {
     "data": {
      "text/plain": [
       "(32737, 8)"
      ]
     },
     "execution_count": 16,
     "metadata": {},
     "output_type": "execute_result"
    }
   ],
   "source": [
    "books_data=books.merge(final_ratings,on=\"ISBN\")\n",
    "books_data.shape"
   ]
  },
  {
   "cell_type": "code",
   "execution_count": 17,
   "id": "7a1e3717",
   "metadata": {
    "execution": {
     "iopub.execute_input": "2024-07-19T19:18:40.260581Z",
     "iopub.status.busy": "2024-07-19T19:18:40.260192Z",
     "iopub.status.idle": "2024-07-19T19:18:40.275635Z",
     "shell.execute_reply": "2024-07-19T19:18:40.274345Z"
    },
    "papermill": {
     "duration": 0.028505,
     "end_time": "2024-07-19T19:18:40.277990",
     "exception": false,
     "start_time": "2024-07-19T19:18:40.249485",
     "status": "completed"
    },
    "tags": []
   },
   "outputs": [
    {
     "data": {
      "text/html": [
       "<div>\n",
       "<style scoped>\n",
       "    .dataframe tbody tr th:only-of-type {\n",
       "        vertical-align: middle;\n",
       "    }\n",
       "\n",
       "    .dataframe tbody tr th {\n",
       "        vertical-align: top;\n",
       "    }\n",
       "\n",
       "    .dataframe thead th {\n",
       "        text-align: right;\n",
       "    }\n",
       "</style>\n",
       "<table border=\"1\" class=\"dataframe\">\n",
       "  <thead>\n",
       "    <tr style=\"text-align: right;\">\n",
       "      <th></th>\n",
       "      <th>Book-Title</th>\n",
       "      <th>Book-Author</th>\n",
       "      <th>Year-Of-Publication</th>\n",
       "      <th>Publisher</th>\n",
       "      <th>Image-URL-L</th>\n",
       "      <th>rating_count</th>\n",
       "      <th>avg_rating</th>\n",
       "      <th>rounded_rating</th>\n",
       "    </tr>\n",
       "    <tr>\n",
       "      <th>ISBN</th>\n",
       "      <th></th>\n",
       "      <th></th>\n",
       "      <th></th>\n",
       "      <th></th>\n",
       "      <th></th>\n",
       "      <th></th>\n",
       "      <th></th>\n",
       "      <th></th>\n",
       "    </tr>\n",
       "  </thead>\n",
       "  <tbody>\n",
       "    <tr>\n",
       "      <th>0002005018</th>\n",
       "      <td>Clara Callan</td>\n",
       "      <td>Richard Bruce Wright</td>\n",
       "      <td>2001</td>\n",
       "      <td>HarperFlamingo Canada</td>\n",
       "      <td>http://images.amazon.com/images/P/0002005018.0...</td>\n",
       "      <td>14</td>\n",
       "      <td>4.928571</td>\n",
       "      <td>5.0</td>\n",
       "    </tr>\n",
       "    <tr>\n",
       "      <th>0374157065</th>\n",
       "      <td>Flu: The Story of the Great Influenza Pandemic...</td>\n",
       "      <td>Gina Bari Kolata</td>\n",
       "      <td>1999</td>\n",
       "      <td>Farrar Straus Giroux</td>\n",
       "      <td>http://images.amazon.com/images/P/0374157065.0...</td>\n",
       "      <td>11</td>\n",
       "      <td>4.272727</td>\n",
       "      <td>4.0</td>\n",
       "    </tr>\n",
       "    <tr>\n",
       "      <th>0399135782</th>\n",
       "      <td>The Kitchen God's Wife</td>\n",
       "      <td>Amy Tan</td>\n",
       "      <td>1991</td>\n",
       "      <td>Putnam Pub Group</td>\n",
       "      <td>http://images.amazon.com/images/P/0399135782.0...</td>\n",
       "      <td>33</td>\n",
       "      <td>4.212121</td>\n",
       "      <td>4.0</td>\n",
       "    </tr>\n",
       "    <tr>\n",
       "      <th>0771074670</th>\n",
       "      <td>Nights Below Station Street</td>\n",
       "      <td>David Adams Richards</td>\n",
       "      <td>1988</td>\n",
       "      <td>Emblem Editions</td>\n",
       "      <td>http://images.amazon.com/images/P/0771074670.0...</td>\n",
       "      <td>6</td>\n",
       "      <td>1.000000</td>\n",
       "      <td>1.0</td>\n",
       "    </tr>\n",
       "    <tr>\n",
       "      <th>1558746218</th>\n",
       "      <td>A Second Chicken Soup for the Woman's Soul (Ch...</td>\n",
       "      <td>Jack Canfield</td>\n",
       "      <td>1998</td>\n",
       "      <td>Health Communications</td>\n",
       "      <td>http://images.amazon.com/images/P/1558746218.0...</td>\n",
       "      <td>8</td>\n",
       "      <td>3.375000</td>\n",
       "      <td>3.0</td>\n",
       "    </tr>\n",
       "  </tbody>\n",
       "</table>\n",
       "</div>"
      ],
      "text/plain": [
       "                                                   Book-Title  \\\n",
       "ISBN                                                            \n",
       "0002005018                                       Clara Callan   \n",
       "0374157065  Flu: The Story of the Great Influenza Pandemic...   \n",
       "0399135782                             The Kitchen God's Wife   \n",
       "0771074670                        Nights Below Station Street   \n",
       "1558746218  A Second Chicken Soup for the Woman's Soul (Ch...   \n",
       "\n",
       "                     Book-Author Year-Of-Publication              Publisher  \\\n",
       "ISBN                                                                          \n",
       "0002005018  Richard Bruce Wright                2001  HarperFlamingo Canada   \n",
       "0374157065      Gina Bari Kolata                1999   Farrar Straus Giroux   \n",
       "0399135782               Amy Tan                1991       Putnam Pub Group   \n",
       "0771074670  David Adams Richards                1988        Emblem Editions   \n",
       "1558746218         Jack Canfield                1998  Health Communications   \n",
       "\n",
       "                                                  Image-URL-L  rating_count  \\\n",
       "ISBN                                                                          \n",
       "0002005018  http://images.amazon.com/images/P/0002005018.0...            14   \n",
       "0374157065  http://images.amazon.com/images/P/0374157065.0...            11   \n",
       "0399135782  http://images.amazon.com/images/P/0399135782.0...            33   \n",
       "0771074670  http://images.amazon.com/images/P/0771074670.0...             6   \n",
       "1558746218  http://images.amazon.com/images/P/1558746218.0...             8   \n",
       "\n",
       "            avg_rating  rounded_rating  \n",
       "ISBN                                    \n",
       "0002005018    4.928571             5.0  \n",
       "0374157065    4.272727             4.0  \n",
       "0399135782    4.212121             4.0  \n",
       "0771074670    1.000000             1.0  \n",
       "1558746218    3.375000             3.0  "
      ]
     },
     "execution_count": 17,
     "metadata": {},
     "output_type": "execute_result"
    }
   ],
   "source": [
    "books_data.head()"
   ]
  },
  {
   "cell_type": "code",
   "execution_count": 18,
   "id": "d3cbf479",
   "metadata": {
    "execution": {
     "iopub.execute_input": "2024-07-19T19:18:40.300300Z",
     "iopub.status.busy": "2024-07-19T19:18:40.299880Z",
     "iopub.status.idle": "2024-07-19T19:18:40.345130Z",
     "shell.execute_reply": "2024-07-19T19:18:40.343953Z"
    },
    "papermill": {
     "duration": 0.059711,
     "end_time": "2024-07-19T19:18:40.348289",
     "exception": false,
     "start_time": "2024-07-19T19:18:40.288578",
     "status": "completed"
    },
    "tags": []
   },
   "outputs": [],
   "source": [
    "book_description_columns=[\"Book-Title\",\"Book-Author\",\"Publisher\"]\n",
    "books_data[\"Book_Details\"]=\"\"\n",
    "for col in book_description_columns:\n",
    "    books_data[\"Book_Details\"]+=books_data[col]+\" \""
   ]
  },
  {
   "cell_type": "code",
   "execution_count": 19,
   "id": "4f3a17fa",
   "metadata": {
    "execution": {
     "iopub.execute_input": "2024-07-19T19:18:40.378997Z",
     "iopub.status.busy": "2024-07-19T19:18:40.378591Z",
     "iopub.status.idle": "2024-07-19T19:18:40.384353Z",
     "shell.execute_reply": "2024-07-19T19:18:40.383098Z"
    },
    "papermill": {
     "duration": 0.023868,
     "end_time": "2024-07-19T19:18:40.386592",
     "exception": false,
     "start_time": "2024-07-19T19:18:40.362724",
     "status": "completed"
    },
    "tags": []
   },
   "outputs": [],
   "source": [
    "def save_tfidf(tfidf_matrix,vectorizer,feature_names):\n",
    "    sparse.save_npz('tfidf_matrix.npz', tfidf_matrix)\n",
    "    joblib.dump(vectorizer, 'tfidf_vectorizer.joblib')\n",
    "    np.save('feature_names.npy', feature_names)"
   ]
  },
  {
   "cell_type": "code",
   "execution_count": 20,
   "id": "784a09d9",
   "metadata": {
    "execution": {
     "iopub.execute_input": "2024-07-19T19:18:40.407802Z",
     "iopub.status.busy": "2024-07-19T19:18:40.407411Z",
     "iopub.status.idle": "2024-07-19T19:18:40.413621Z",
     "shell.execute_reply": "2024-07-19T19:18:40.412385Z"
    },
    "papermill": {
     "duration": 0.019665,
     "end_time": "2024-07-19T19:18:40.416004",
     "exception": false,
     "start_time": "2024-07-19T19:18:40.396339",
     "status": "completed"
    },
    "tags": []
   },
   "outputs": [],
   "source": [
    "def compute_and_save_tfidf(data,column,vectorizer):\n",
    "    tfidf_matrix = vectorizer.fit_transform(data[column])\n",
    "    feature_names = vectorizer.get_feature_names_out()\n",
    "    save_tfidf(tfidf_matrix,vectorizer,feature_names)\n",
    "    return pd.DataFrame(tfidf_matrix.toarray(), columns=feature_names)"
   ]
  },
  {
   "cell_type": "code",
   "execution_count": 21,
   "id": "bcded126",
   "metadata": {
    "execution": {
     "iopub.execute_input": "2024-07-19T19:18:40.437441Z",
     "iopub.status.busy": "2024-07-19T19:18:40.436961Z",
     "iopub.status.idle": "2024-07-19T19:18:40.454423Z",
     "shell.execute_reply": "2024-07-19T19:18:40.453172Z"
    },
    "papermill": {
     "duration": 0.03101,
     "end_time": "2024-07-19T19:18:40.457004",
     "exception": false,
     "start_time": "2024-07-19T19:18:40.425994",
     "status": "completed"
    },
    "tags": []
   },
   "outputs": [
    {
     "data": {
      "text/html": [
       "<div>\n",
       "<style scoped>\n",
       "    .dataframe tbody tr th:only-of-type {\n",
       "        vertical-align: middle;\n",
       "    }\n",
       "\n",
       "    .dataframe tbody tr th {\n",
       "        vertical-align: top;\n",
       "    }\n",
       "\n",
       "    .dataframe thead th {\n",
       "        text-align: right;\n",
       "    }\n",
       "</style>\n",
       "<table border=\"1\" class=\"dataframe\">\n",
       "  <thead>\n",
       "    <tr style=\"text-align: right;\">\n",
       "      <th></th>\n",
       "      <th>Book-Title</th>\n",
       "      <th>Book-Author</th>\n",
       "      <th>Year-Of-Publication</th>\n",
       "      <th>Publisher</th>\n",
       "      <th>Image-URL-L</th>\n",
       "    </tr>\n",
       "    <tr>\n",
       "      <th>ISBN</th>\n",
       "      <th></th>\n",
       "      <th></th>\n",
       "      <th></th>\n",
       "      <th></th>\n",
       "      <th></th>\n",
       "    </tr>\n",
       "  </thead>\n",
       "  <tbody>\n",
       "    <tr>\n",
       "      <th>0195153448</th>\n",
       "      <td>Classical Mythology</td>\n",
       "      <td>Mark P. O. Morford</td>\n",
       "      <td>2002</td>\n",
       "      <td>Oxford University Press</td>\n",
       "      <td>http://images.amazon.com/images/P/0195153448.0...</td>\n",
       "    </tr>\n",
       "    <tr>\n",
       "      <th>0002005018</th>\n",
       "      <td>Clara Callan</td>\n",
       "      <td>Richard Bruce Wright</td>\n",
       "      <td>2001</td>\n",
       "      <td>HarperFlamingo Canada</td>\n",
       "      <td>http://images.amazon.com/images/P/0002005018.0...</td>\n",
       "    </tr>\n",
       "    <tr>\n",
       "      <th>0060973129</th>\n",
       "      <td>Decision in Normandy</td>\n",
       "      <td>Carlo D'Este</td>\n",
       "      <td>1991</td>\n",
       "      <td>HarperPerennial</td>\n",
       "      <td>http://images.amazon.com/images/P/0060973129.0...</td>\n",
       "    </tr>\n",
       "    <tr>\n",
       "      <th>0374157065</th>\n",
       "      <td>Flu: The Story of the Great Influenza Pandemic...</td>\n",
       "      <td>Gina Bari Kolata</td>\n",
       "      <td>1999</td>\n",
       "      <td>Farrar Straus Giroux</td>\n",
       "      <td>http://images.amazon.com/images/P/0374157065.0...</td>\n",
       "    </tr>\n",
       "    <tr>\n",
       "      <th>0393045218</th>\n",
       "      <td>The Mummies of Urumchi</td>\n",
       "      <td>E. J. W. Barber</td>\n",
       "      <td>1999</td>\n",
       "      <td>W. W. Norton &amp;amp; Company</td>\n",
       "      <td>http://images.amazon.com/images/P/0393045218.0...</td>\n",
       "    </tr>\n",
       "    <tr>\n",
       "      <th>...</th>\n",
       "      <td>...</td>\n",
       "      <td>...</td>\n",
       "      <td>...</td>\n",
       "      <td>...</td>\n",
       "      <td>...</td>\n",
       "    </tr>\n",
       "    <tr>\n",
       "      <th>0440400988</th>\n",
       "      <td>There's a Bat in Bunk Five</td>\n",
       "      <td>Paula Danziger</td>\n",
       "      <td>1988</td>\n",
       "      <td>Random House Childrens Pub (Mm)</td>\n",
       "      <td>http://images.amazon.com/images/P/0440400988.0...</td>\n",
       "    </tr>\n",
       "    <tr>\n",
       "      <th>0525447644</th>\n",
       "      <td>From One to One Hundred</td>\n",
       "      <td>Teri Sloat</td>\n",
       "      <td>1991</td>\n",
       "      <td>Dutton Books</td>\n",
       "      <td>http://images.amazon.com/images/P/0525447644.0...</td>\n",
       "    </tr>\n",
       "    <tr>\n",
       "      <th>006008667X</th>\n",
       "      <td>Lily Dale : The True Story of the Town that Ta...</td>\n",
       "      <td>Christine Wicker</td>\n",
       "      <td>2004</td>\n",
       "      <td>HarperSanFrancisco</td>\n",
       "      <td>http://images.amazon.com/images/P/006008667X.0...</td>\n",
       "    </tr>\n",
       "    <tr>\n",
       "      <th>0192126040</th>\n",
       "      <td>Republic (World's Classics)</td>\n",
       "      <td>Plato</td>\n",
       "      <td>1996</td>\n",
       "      <td>Oxford University Press</td>\n",
       "      <td>http://images.amazon.com/images/P/0192126040.0...</td>\n",
       "    </tr>\n",
       "    <tr>\n",
       "      <th>0767409752</th>\n",
       "      <td>A Guided Tour of Rene Descartes' Meditations o...</td>\n",
       "      <td>Christopher  Biffle</td>\n",
       "      <td>2000</td>\n",
       "      <td>McGraw-Hill Humanities/Social Sciences/Languages</td>\n",
       "      <td>http://images.amazon.com/images/P/0767409752.0...</td>\n",
       "    </tr>\n",
       "  </tbody>\n",
       "</table>\n",
       "<p>271360 rows × 5 columns</p>\n",
       "</div>"
      ],
      "text/plain": [
       "                                                   Book-Title  \\\n",
       "ISBN                                                            \n",
       "0195153448                                Classical Mythology   \n",
       "0002005018                                       Clara Callan   \n",
       "0060973129                               Decision in Normandy   \n",
       "0374157065  Flu: The Story of the Great Influenza Pandemic...   \n",
       "0393045218                             The Mummies of Urumchi   \n",
       "...                                                       ...   \n",
       "0440400988                         There's a Bat in Bunk Five   \n",
       "0525447644                            From One to One Hundred   \n",
       "006008667X  Lily Dale : The True Story of the Town that Ta...   \n",
       "0192126040                        Republic (World's Classics)   \n",
       "0767409752  A Guided Tour of Rene Descartes' Meditations o...   \n",
       "\n",
       "                     Book-Author Year-Of-Publication  \\\n",
       "ISBN                                                   \n",
       "0195153448    Mark P. O. Morford                2002   \n",
       "0002005018  Richard Bruce Wright                2001   \n",
       "0060973129          Carlo D'Este                1991   \n",
       "0374157065      Gina Bari Kolata                1999   \n",
       "0393045218       E. J. W. Barber                1999   \n",
       "...                          ...                 ...   \n",
       "0440400988        Paula Danziger                1988   \n",
       "0525447644            Teri Sloat                1991   \n",
       "006008667X      Christine Wicker                2004   \n",
       "0192126040                 Plato                1996   \n",
       "0767409752   Christopher  Biffle                2000   \n",
       "\n",
       "                                                   Publisher  \\\n",
       "ISBN                                                           \n",
       "0195153448                           Oxford University Press   \n",
       "0002005018                             HarperFlamingo Canada   \n",
       "0060973129                                   HarperPerennial   \n",
       "0374157065                              Farrar Straus Giroux   \n",
       "0393045218                        W. W. Norton &amp; Company   \n",
       "...                                                      ...   \n",
       "0440400988                   Random House Childrens Pub (Mm)   \n",
       "0525447644                                      Dutton Books   \n",
       "006008667X                                HarperSanFrancisco   \n",
       "0192126040                           Oxford University Press   \n",
       "0767409752  McGraw-Hill Humanities/Social Sciences/Languages   \n",
       "\n",
       "                                                  Image-URL-L  \n",
       "ISBN                                                           \n",
       "0195153448  http://images.amazon.com/images/P/0195153448.0...  \n",
       "0002005018  http://images.amazon.com/images/P/0002005018.0...  \n",
       "0060973129  http://images.amazon.com/images/P/0060973129.0...  \n",
       "0374157065  http://images.amazon.com/images/P/0374157065.0...  \n",
       "0393045218  http://images.amazon.com/images/P/0393045218.0...  \n",
       "...                                                       ...  \n",
       "0440400988  http://images.amazon.com/images/P/0440400988.0...  \n",
       "0525447644  http://images.amazon.com/images/P/0525447644.0...  \n",
       "006008667X  http://images.amazon.com/images/P/006008667X.0...  \n",
       "0192126040  http://images.amazon.com/images/P/0192126040.0...  \n",
       "0767409752  http://images.amazon.com/images/P/0767409752.0...  \n",
       "\n",
       "[271360 rows x 5 columns]"
      ]
     },
     "execution_count": 21,
     "metadata": {},
     "output_type": "execute_result"
    }
   ],
   "source": [
    "books"
   ]
  },
  {
   "cell_type": "code",
   "execution_count": 22,
   "id": "dce87661",
   "metadata": {
    "execution": {
     "iopub.execute_input": "2024-07-19T19:18:40.479215Z",
     "iopub.status.busy": "2024-07-19T19:18:40.478659Z",
     "iopub.status.idle": "2024-07-19T19:18:40.489633Z",
     "shell.execute_reply": "2024-07-19T19:18:40.488459Z"
    },
    "papermill": {
     "duration": 0.025749,
     "end_time": "2024-07-19T19:18:40.492793",
     "exception": false,
     "start_time": "2024-07-19T19:18:40.467044",
     "status": "completed"
    },
    "tags": []
   },
   "outputs": [],
   "source": [
    "stop_words = stopwords.words('english')\n",
    "vectorizer=TfidfVectorizer(\n",
    "    stop_words=stop_words,\n",
    "    lowercase=True,\n",
    "    max_features=10000, \n",
    ")\n"
   ]
  },
  {
   "cell_type": "code",
   "execution_count": 23,
   "id": "25e0da61",
   "metadata": {
    "execution": {
     "iopub.execute_input": "2024-07-19T19:18:40.518771Z",
     "iopub.status.busy": "2024-07-19T19:18:40.518146Z",
     "iopub.status.idle": "2024-07-19T19:18:42.838923Z",
     "shell.execute_reply": "2024-07-19T19:18:42.837824Z"
    },
    "papermill": {
     "duration": 2.335911,
     "end_time": "2024-07-19T19:18:42.841324",
     "exception": false,
     "start_time": "2024-07-19T19:18:40.505413",
     "status": "completed"
    },
    "tags": []
   },
   "outputs": [],
   "source": [
    "vectorized_dataframe=compute_and_save_tfidf(books_data,\"Book_Details\",vectorizer)"
   ]
  },
  {
   "cell_type": "code",
   "execution_count": 24,
   "id": "99d30019",
   "metadata": {
    "execution": {
     "iopub.execute_input": "2024-07-19T19:18:42.864013Z",
     "iopub.status.busy": "2024-07-19T19:18:42.863061Z",
     "iopub.status.idle": "2024-07-19T19:18:42.868084Z",
     "shell.execute_reply": "2024-07-19T19:18:42.866989Z"
    },
    "papermill": {
     "duration": 0.018407,
     "end_time": "2024-07-19T19:18:42.870168",
     "exception": false,
     "start_time": "2024-07-19T19:18:42.851761",
     "status": "completed"
    },
    "tags": []
   },
   "outputs": [],
   "source": [
    "vectorized_dataframe.index=books_data.index"
   ]
  },
  {
   "cell_type": "code",
   "execution_count": 25,
   "id": "a07781ee",
   "metadata": {
    "execution": {
     "iopub.execute_input": "2024-07-19T19:18:42.891666Z",
     "iopub.status.busy": "2024-07-19T19:18:42.891296Z",
     "iopub.status.idle": "2024-07-19T19:18:42.924650Z",
     "shell.execute_reply": "2024-07-19T19:18:42.923287Z"
    },
    "papermill": {
     "duration": 0.046726,
     "end_time": "2024-07-19T19:18:42.926978",
     "exception": false,
     "start_time": "2024-07-19T19:18:42.880252",
     "status": "completed"
    },
    "tags": []
   },
   "outputs": [
    {
     "data": {
      "text/html": [
       "<div>\n",
       "<style scoped>\n",
       "    .dataframe tbody tr th:only-of-type {\n",
       "        vertical-align: middle;\n",
       "    }\n",
       "\n",
       "    .dataframe tbody tr th {\n",
       "        vertical-align: top;\n",
       "    }\n",
       "\n",
       "    .dataframe thead th {\n",
       "        text-align: right;\n",
       "    }\n",
       "</style>\n",
       "<table border=\"1\" class=\"dataframe\">\n",
       "  <thead>\n",
       "    <tr style=\"text-align: right;\">\n",
       "      <th></th>\n",
       "      <th>000</th>\n",
       "      <th>01</th>\n",
       "      <th>02</th>\n",
       "      <th>03</th>\n",
       "      <th>04</th>\n",
       "      <th>05</th>\n",
       "      <th>08</th>\n",
       "      <th>10</th>\n",
       "      <th>100</th>\n",
       "      <th>1000</th>\n",
       "      <th>...</th>\n",
       "      <th>zweigniederlassung</th>\n",
       "      <th>zz</th>\n",
       "      <th>zã</th>\n",
       "      <th>â¼bbe</th>\n",
       "      <th>â¼ber</th>\n",
       "      <th>â¼cher</th>\n",
       "      <th>â¼gen</th>\n",
       "      <th>â¼nfte</th>\n",
       "      <th>â¼r</th>\n",
       "      <th>â¼rich</th>\n",
       "    </tr>\n",
       "    <tr>\n",
       "      <th>ISBN</th>\n",
       "      <th></th>\n",
       "      <th></th>\n",
       "      <th></th>\n",
       "      <th></th>\n",
       "      <th></th>\n",
       "      <th></th>\n",
       "      <th></th>\n",
       "      <th></th>\n",
       "      <th></th>\n",
       "      <th></th>\n",
       "      <th></th>\n",
       "      <th></th>\n",
       "      <th></th>\n",
       "      <th></th>\n",
       "      <th></th>\n",
       "      <th></th>\n",
       "      <th></th>\n",
       "      <th></th>\n",
       "      <th></th>\n",
       "      <th></th>\n",
       "      <th></th>\n",
       "    </tr>\n",
       "  </thead>\n",
       "  <tbody>\n",
       "    <tr>\n",
       "      <th>0002005018</th>\n",
       "      <td>0.0</td>\n",
       "      <td>0.0</td>\n",
       "      <td>0.0</td>\n",
       "      <td>0.0</td>\n",
       "      <td>0.0</td>\n",
       "      <td>0.0</td>\n",
       "      <td>0.0</td>\n",
       "      <td>0.0</td>\n",
       "      <td>0.0</td>\n",
       "      <td>0.0</td>\n",
       "      <td>...</td>\n",
       "      <td>0.0</td>\n",
       "      <td>0.0</td>\n",
       "      <td>0.0</td>\n",
       "      <td>0.0</td>\n",
       "      <td>0.0</td>\n",
       "      <td>0.0</td>\n",
       "      <td>0.0</td>\n",
       "      <td>0.0</td>\n",
       "      <td>0.0</td>\n",
       "      <td>0.0</td>\n",
       "    </tr>\n",
       "    <tr>\n",
       "      <th>0374157065</th>\n",
       "      <td>0.0</td>\n",
       "      <td>0.0</td>\n",
       "      <td>0.0</td>\n",
       "      <td>0.0</td>\n",
       "      <td>0.0</td>\n",
       "      <td>0.0</td>\n",
       "      <td>0.0</td>\n",
       "      <td>0.0</td>\n",
       "      <td>0.0</td>\n",
       "      <td>0.0</td>\n",
       "      <td>...</td>\n",
       "      <td>0.0</td>\n",
       "      <td>0.0</td>\n",
       "      <td>0.0</td>\n",
       "      <td>0.0</td>\n",
       "      <td>0.0</td>\n",
       "      <td>0.0</td>\n",
       "      <td>0.0</td>\n",
       "      <td>0.0</td>\n",
       "      <td>0.0</td>\n",
       "      <td>0.0</td>\n",
       "    </tr>\n",
       "    <tr>\n",
       "      <th>0399135782</th>\n",
       "      <td>0.0</td>\n",
       "      <td>0.0</td>\n",
       "      <td>0.0</td>\n",
       "      <td>0.0</td>\n",
       "      <td>0.0</td>\n",
       "      <td>0.0</td>\n",
       "      <td>0.0</td>\n",
       "      <td>0.0</td>\n",
       "      <td>0.0</td>\n",
       "      <td>0.0</td>\n",
       "      <td>...</td>\n",
       "      <td>0.0</td>\n",
       "      <td>0.0</td>\n",
       "      <td>0.0</td>\n",
       "      <td>0.0</td>\n",
       "      <td>0.0</td>\n",
       "      <td>0.0</td>\n",
       "      <td>0.0</td>\n",
       "      <td>0.0</td>\n",
       "      <td>0.0</td>\n",
       "      <td>0.0</td>\n",
       "    </tr>\n",
       "    <tr>\n",
       "      <th>0771074670</th>\n",
       "      <td>0.0</td>\n",
       "      <td>0.0</td>\n",
       "      <td>0.0</td>\n",
       "      <td>0.0</td>\n",
       "      <td>0.0</td>\n",
       "      <td>0.0</td>\n",
       "      <td>0.0</td>\n",
       "      <td>0.0</td>\n",
       "      <td>0.0</td>\n",
       "      <td>0.0</td>\n",
       "      <td>...</td>\n",
       "      <td>0.0</td>\n",
       "      <td>0.0</td>\n",
       "      <td>0.0</td>\n",
       "      <td>0.0</td>\n",
       "      <td>0.0</td>\n",
       "      <td>0.0</td>\n",
       "      <td>0.0</td>\n",
       "      <td>0.0</td>\n",
       "      <td>0.0</td>\n",
       "      <td>0.0</td>\n",
       "    </tr>\n",
       "    <tr>\n",
       "      <th>1558746218</th>\n",
       "      <td>0.0</td>\n",
       "      <td>0.0</td>\n",
       "      <td>0.0</td>\n",
       "      <td>0.0</td>\n",
       "      <td>0.0</td>\n",
       "      <td>0.0</td>\n",
       "      <td>0.0</td>\n",
       "      <td>0.0</td>\n",
       "      <td>0.0</td>\n",
       "      <td>0.0</td>\n",
       "      <td>...</td>\n",
       "      <td>0.0</td>\n",
       "      <td>0.0</td>\n",
       "      <td>0.0</td>\n",
       "      <td>0.0</td>\n",
       "      <td>0.0</td>\n",
       "      <td>0.0</td>\n",
       "      <td>0.0</td>\n",
       "      <td>0.0</td>\n",
       "      <td>0.0</td>\n",
       "      <td>0.0</td>\n",
       "    </tr>\n",
       "  </tbody>\n",
       "</table>\n",
       "<p>5 rows × 10000 columns</p>\n",
       "</div>"
      ],
      "text/plain": [
       "            000   01   02   03   04   05   08   10  100  1000  ...  \\\n",
       "ISBN                                                           ...   \n",
       "0002005018  0.0  0.0  0.0  0.0  0.0  0.0  0.0  0.0  0.0   0.0  ...   \n",
       "0374157065  0.0  0.0  0.0  0.0  0.0  0.0  0.0  0.0  0.0   0.0  ...   \n",
       "0399135782  0.0  0.0  0.0  0.0  0.0  0.0  0.0  0.0  0.0   0.0  ...   \n",
       "0771074670  0.0  0.0  0.0  0.0  0.0  0.0  0.0  0.0  0.0   0.0  ...   \n",
       "1558746218  0.0  0.0  0.0  0.0  0.0  0.0  0.0  0.0  0.0   0.0  ...   \n",
       "\n",
       "            zweigniederlassung   zz   zã  â¼bbe  â¼ber  â¼cher  â¼gen  â¼nfte  \\\n",
       "ISBN                                                                            \n",
       "0002005018                 0.0  0.0  0.0    0.0    0.0     0.0    0.0     0.0   \n",
       "0374157065                 0.0  0.0  0.0    0.0    0.0     0.0    0.0     0.0   \n",
       "0399135782                 0.0  0.0  0.0    0.0    0.0     0.0    0.0     0.0   \n",
       "0771074670                 0.0  0.0  0.0    0.0    0.0     0.0    0.0     0.0   \n",
       "1558746218                 0.0  0.0  0.0    0.0    0.0     0.0    0.0     0.0   \n",
       "\n",
       "            â¼r  â¼rich  \n",
       "ISBN                     \n",
       "0002005018  0.0     0.0  \n",
       "0374157065  0.0     0.0  \n",
       "0399135782  0.0     0.0  \n",
       "0771074670  0.0     0.0  \n",
       "1558746218  0.0     0.0  \n",
       "\n",
       "[5 rows x 10000 columns]"
      ]
     },
     "execution_count": 25,
     "metadata": {},
     "output_type": "execute_result"
    }
   ],
   "source": [
    "vectorized_dataframe.head()"
   ]
  },
  {
   "cell_type": "code",
   "execution_count": 26,
   "id": "f87cea38",
   "metadata": {
    "execution": {
     "iopub.execute_input": "2024-07-19T19:18:42.949634Z",
     "iopub.status.busy": "2024-07-19T19:18:42.949234Z",
     "iopub.status.idle": "2024-07-19T19:18:43.264267Z",
     "shell.execute_reply": "2024-07-19T19:18:43.263302Z"
    },
    "papermill": {
     "duration": 0.329342,
     "end_time": "2024-07-19T19:18:43.267051",
     "exception": false,
     "start_time": "2024-07-19T19:18:42.937709",
     "status": "completed"
    },
    "tags": []
   },
   "outputs": [],
   "source": [
    "books_data.to_csv(\"books_data.csv\")"
   ]
  },
  {
   "cell_type": "code",
   "execution_count": null,
   "id": "dc6052b5",
   "metadata": {
    "papermill": {
     "duration": 0.010147,
     "end_time": "2024-07-19T19:18:43.288090",
     "exception": false,
     "start_time": "2024-07-19T19:18:43.277943",
     "status": "completed"
    },
    "tags": []
   },
   "outputs": [],
   "source": []
  }
 ],
 "metadata": {
  "kaggle": {
   "accelerator": "none",
   "dataSources": [
    {
     "datasetId": 1004280,
     "sourceId": 7595263,
     "sourceType": "datasetVersion"
    }
   ],
   "dockerImageVersionId": 30732,
   "isGpuEnabled": false,
   "isInternetEnabled": true,
   "language": "python",
   "sourceType": "notebook"
  },
  "kernelspec": {
   "display_name": "Python 3",
   "language": "python",
   "name": "python3"
  },
  "language_info": {
   "codemirror_mode": {
    "name": "ipython",
    "version": 3
   },
   "file_extension": ".py",
   "mimetype": "text/x-python",
   "name": "python",
   "nbconvert_exporter": "python",
   "pygments_lexer": "ipython3",
   "version": "3.10.13"
  },
  "papermill": {
   "default_parameters": {},
   "duration": 19.276901,
   "end_time": "2024-07-19T19:18:44.120801",
   "environment_variables": {},
   "exception": null,
   "input_path": "__notebook__.ipynb",
   "output_path": "__notebook__.ipynb",
   "parameters": {},
   "start_time": "2024-07-19T19:18:24.843900",
   "version": "2.5.0"
  }
 },
 "nbformat": 4,
 "nbformat_minor": 5
}
